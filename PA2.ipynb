{
 "cells": [
  {
   "cell_type": "code",
   "execution_count": 5,
   "metadata": {},
   "outputs": [],
   "source": [
    "def one_hot_encoding(labels, num_classes=10):\n",
    "    \"\"\"\n",
    "    Encode labels using one hot encoding and return them.\n",
    "    \"\"\"\n",
    "    values = labels\n",
    "    n_values = np.max(labels) + 1\n",
    "    return np.eye(n_values)[labels] \n",
    "\n",
    "\n",
    "def write_to_file(path, data):\n",
    "    \"\"\"\n",
    "    Dumps pickled data into the specified relative path.\n",
    "\n",
    "    Args:\n",
    "        path: relative path to store to\n",
    "        data: data to pickle and store\n",
    "    \"\"\"\n",
    "    with open(path, 'wb') as handle:\n",
    "        pickle.dump(data, handle, protocol=pickle.HIGHEST_PROTOCOL)\n",
    "\n",
    "\n",
    "def load_data(train=True):\n",
    "    \"\"\"\n",
    "    Load the data from disk\n",
    "\n",
    "    Args:\n",
    "        train: Load training data if true, else load test data\n",
    "\n",
    "    Returns:\n",
    "        Tuple:\n",
    "            Images\n",
    "            Labels\n",
    "    \"\"\"\n",
    "    directory = 'train' if train else 'test'\n",
    "    patterns = np.load(os.path.join('./data/', directory, 'images.npz'))['arr_0']\n",
    "    labels = np.load(os.path.join('./data/', directory, 'labels.npz'))['arr_0']\n",
    "    return patterns.reshape(len(patterns), -1), labels\n",
    "\n",
    "\n",
    "def load_config(path):\n",
    "    \"\"\"\n",
    "    Load the configuration from config.yaml\n",
    "\n",
    "    Args:\n",
    "        path: A relative path to the config.yaml file\n",
    "\n",
    "    Returns:\n",
    "        A dict object containing the parameters specified in the config file\n",
    "    \"\"\"\n",
    "    return yaml.load(open(path, 'r'), Loader=yaml.SafeLoader)\n",
    "\n",
    "\n",
    "def generate_k_fold_set(dataset, k=5):\n",
    "    \"\"\"\n",
    "    Creates a generator object to generate k folds for k fold cross validation.\n",
    "\n",
    "    Args:\n",
    "        dataset: The dataset to create folds on\n",
    "        k: The number of folds\n",
    "\n",
    "    Returns:\n",
    "        A train and validation fold for each call, up to k times\n",
    "    \"\"\"\n",
    "    X, y = dataset\n",
    "    if k == 1:\n",
    "        yield (X, y), (X[len(X):], y[len(y):])\n",
    "        return\n",
    "\n",
    "    order = np.random.permutation(len(X))\n",
    "\n",
    "    fold_width = len(X) // k\n",
    "\n",
    "    l_idx, r_idx = 0, fold_width\n",
    "\n",
    "    for i in range(k):\n",
    "        train = np.concatenate([X[order[:l_idx]], X[order[r_idx:]]]), np.concatenate(\n",
    "            [y[order[:l_idx]], y[order[r_idx:]]])\n",
    "        validation = X[order[l_idx:r_idx]], y[order[l_idx:r_idx]]\n",
    "        yield train, validation\n",
    "        l_idx, r_idx = r_idx, r_idx + fold_width\n",
    "\n",
    "\n",
    "def z_score_normalize(X, u=None, sd=None):\n",
    "    \"\"\"\n",
    "    Performs z-score normalization on X.\n",
    "    f(x) = (x - μ) / σ\n",
    "        where\n",
    "            μ = mean of x\n",
    "            σ = standard deviation of x\n",
    "\n",
    "    Args:\n",
    "        X: the data to min-max normalize\n",
    "        u: the mean to normalize X with\n",
    "        sd: the standard deviation to normalize X with\n",
    "\n",
    "    Returns:\n",
    "        Tuple:\n",
    "            Transformed dataset with mean 0 and stdev 1\n",
    "            Computed statistics (mean and stdev) for the dataset to undo z-scoring.\n",
    "\n",
    "    \"\"\"\n",
    "    if u is None:\n",
    "        u = np.mean(X, axis=0)\n",
    "    if sd is None:\n",
    "        sd = np.std(X, axis=0)\n",
    "    return ((X - u) / sd), (u, sd)\n"
   ]
  },
  {
   "cell_type": "code",
   "execution_count": 6,
   "metadata": {},
   "outputs": [],
   "source": [
    "def z_score_normalize(X, u=None, sd=None):\n",
    "    \"\"\"\n",
    "    Performs z-score normalization on X.\n",
    "    f(x) = (x - μ) / σ\n",
    "        where\n",
    "            μ = mean of x\n",
    "            σ = standard deviation of x\n",
    "\n",
    "    Args:\n",
    "        X: the data to min-max normalize\n",
    "        u: the mean to normalize X with\n",
    "        sd: the standard deviation to normalize X with\n",
    "\n",
    "    Returns:\n",
    "        Tuple:\n",
    "            Transformed dataset with mean 0 and stdev 1\n",
    "            Computed statistics (mean and stdev) for the dataset to undo z-scoring.\n",
    "\n",
    "    \"\"\"\n",
    "    if u is None:\n",
    "        u = np.mean(X, axis=0)\n",
    "    if sd is None:\n",
    "        sd = np.std(X, axis=0)\n",
    "    return ((X - u) / sd), (u, sd)\n",
    "\n",
    "def shuffle(dataset):\n",
    "    \"\"\"\n",
    "    Shuffle dataset.\n",
    "    Make sure that corresponding images and labels are kept together. \n",
    "    Ideas: \n",
    "        NumPy array indexing \n",
    "            https://numpy.org/doc/stable/user/basics.indexing.html#advanced-indexing\n",
    "    Parameters\n",
    "    ----------\n",
    "    dataset\n",
    "        Tuple containing\n",
    "            Images (X)\n",
    "            Labels (y)\n",
    "    Returns\n",
    "    -------\n",
    "        Tuple containing\n",
    "            Images (X)\n",
    "            Labels (y)\n",
    "    \"\"\"\n",
    "    dim=dataset[0].shape[0]\n",
    "    index1=np.arange(dim)\n",
    "    np.random.shuffle(index1)\n",
    "    shuffled_data=dataset[0][index1]\n",
    "    shuffled_label=dataset[1][index1]\n",
    "    return (shuffled_data,shuffled_label)"
   ]
  },
  {
   "cell_type": "code",
   "execution_count": 9,
   "metadata": {},
   "outputs": [],
   "source": [
    "import os\n",
    "import pickle\n",
    "\n",
    "import numpy as np\n",
    "import yaml"
   ]
  },
  {
   "cell_type": "markdown",
   "metadata": {},
   "source": [
    "# Without Regularization"
   ]
  },
  {
   "cell_type": "code",
   "execution_count": 223,
   "metadata": {},
   "outputs": [],
   "source": [
    "# import numpy as np\n",
    "# import math\n",
    "# import matplotlib.pyplot as plt\n",
    "\n",
    "\n",
    "# class Activation:\n",
    "#     \"\"\"\n",
    "#     The class implements different types of activation functions for\n",
    "#     your neural network layers.\n",
    "\n",
    "#     Example (for sigmoid):\n",
    "#         >>> sigmoid_layer = Activation(\"sigmoid\")\n",
    "#         >>> z = sigmoid_layer(a)\n",
    "#         >>> gradient = sigmoid_layer.backward(delta)\n",
    "#     \"\"\"\n",
    "\n",
    "#     def __init__(self, activation_type=\"sigmoid\"):\n",
    "#         \"\"\"\n",
    "#         Initialize activation type and placeholders here.\n",
    "#         \"\"\"\n",
    "#         if activation_type not in [\"sigmoid\", \"tanh\", \"ReLU\"]:\n",
    "#             raise NotImplementedError(\"%s is not implemented.\" % (activation_type))\n",
    "\n",
    "#         # Type of non-linear activation.\n",
    "#         self.activation_type = activation_type\n",
    "#         # Placeholder for input. This will be used for computing gradients.\n",
    "#         # Remember from my write up that a is a J*N matrix, where J is number of units being connected \n",
    "#         # and N is number of data points in our minibatch.\n",
    "#         self.x = None\n",
    "        \n",
    "#         # State the type of the layer to differentiate from normal layer\n",
    "#         self.type=\"activation\"\n",
    "\n",
    "#     def __call__(self, a):\n",
    "#         \"\"\"\n",
    "#         This method allows your instances to be callable.\n",
    "#         \"\"\"\n",
    "#         # We need to save this vector, a, for computing the gradient evaluated at a.\n",
    "#         self.x=a\n",
    "#         return self.forward(a)\n",
    "\n",
    "#     def forward(self, a):\n",
    "#         \"\"\"\n",
    "#         Compute the forward pass.\n",
    "#         \"\"\"\n",
    "        \n",
    "        \n",
    "#         if self.activation_type == \"sigmoid\":\n",
    "#             return self.sigmoid(a)\n",
    "\n",
    "#         elif self.activation_type == \"tanh\":\n",
    "#             return self.tanh(a)\n",
    "\n",
    "#         elif self.activation_type == \"ReLU\":\n",
    "#             return self.ReLU(a)\n",
    "\n",
    "#     def backward(self, delta):\n",
    "#         \"\"\"\n",
    "#         Compute the backward pass.\n",
    "#         \"\"\"\n",
    "#         if self.activation_type == \"sigmoid\":\n",
    "#             grad = self.grad_sigmoid()\n",
    "\n",
    "#         elif self.activation_type == \"tanh\":\n",
    "#             grad = self.grad_tanh()\n",
    "\n",
    "#         elif self.activation_type == \"ReLU\":\n",
    "#             grad = self.grad_ReLU()\n",
    "\n",
    "#         return grad * delta\n",
    "\n",
    "#     def sigmoid(self, x):\n",
    "#         \"\"\"\n",
    "#         Implement the sigmoid activation here.\n",
    "#         Notice that I implement the clipping to avoid numerical overflow \n",
    "#         \"\"\"\n",
    "#         x=np.clip(x,-20,20)\n",
    "#         return 1/(1+np.exp(-x))\n",
    "\n",
    "#     def tanh(self, x):\n",
    "#         \"\"\"\n",
    "#         Implement tanh here.\n",
    "#         \"\"\"\n",
    "#         return 1.7159*np.tanh((2/3)*x)\n",
    "        \n",
    "\n",
    "#     def ReLU(self, x):\n",
    "#         \"\"\"\n",
    "#         Implement ReLU here.\n",
    "#         \"\"\"\n",
    "#         # Apply element-wise relu to a given matrix element-wise\n",
    "       \n",
    "#         return np.clip(self.x,0,a_max=200)\n",
    "\n",
    "#     def grad_sigmoid(self):\n",
    "#         \"\"\"\n",
    "#         Compute the gradient for sigmoid here.\n",
    "#         \"\"\"\n",
    "#         return self.sigmoid(self.x)*(1-self.sigmoid(self.x))\n",
    "\n",
    "#     def grad_tanh(self):\n",
    "#         \"\"\"\n",
    "#         Compute the gradient for tanh here.\n",
    "#         \"\"\"\n",
    "#         return 1-np.square(np.tanh(self.x))\n",
    "\n",
    "#     def grad_ReLU(self):\n",
    "#         \"\"\"\n",
    "#         Compute the gradient for ReLU here.\n",
    "#         \"\"\"\n",
    "#         original_shape=self.x.shape\n",
    "#         x=self.x.flatten()\n",
    "#         out=[]\n",
    "#         for i in range(len(x)):\n",
    "#             if x[i]>=0:\n",
    "#                 out.append(1)\n",
    "#             else:\n",
    "#                 out.append(0)\n",
    "#         out=np.array(out)\n",
    "#         return out.reshape(original_shape)\n",
    "\n",
    "\n",
    "# class Layer:\n",
    "#     \"\"\"\n",
    "#     This class implements Fully Connected layers for your neural network.\n",
    "\n",
    "#     Example:\n",
    "#         >>> fully_connected_layer = Layer(1024, 100)\n",
    "#         >>> output = fully_connected_layer(input)\n",
    "#         >>> gradient = fully_connected_layer.backward(delta)\n",
    "#     \"\"\"\n",
    "\n",
    "#     def __init__(self, in_units, out_units):\n",
    "#         \"\"\"\n",
    "#         Define the architecture and create placeholder.\n",
    "#         \"\"\"        \n",
    "        \n",
    "#         np.random.seed(42)\n",
    "#         self.w = math.sqrt(2 / in_units) * np.random.randn(in_units,\n",
    "#                                                            out_units)  # You can experiment with initialization.\n",
    "#         # Notice that the dimension 1*M is suffice due to the fact array can be broadcasted\n",
    "#         self.b = np.random.randn(1, out_units).flatten()  # Create a placeholder for Bias; \n",
    "#         self.x = None  # Save the input to forward in this; This is dimension of N*j.\n",
    "#         self.a = None  # Save the output of forward pass in this (without activation)\n",
    "\n",
    "#         self.d_x = None  # Save the gradient w.r.t x in this\n",
    "#         self.d_w = None  # Save the gradient w.r.t w in this\n",
    "#         self.d_b = None  # Save the gradient w.r.t b in this\n",
    "\n",
    "\n",
    "#         self.prev_d_w=None\n",
    "        \n",
    "#         # State the type of the layer to differentiate from activation layer\n",
    "#         self.type=\"layer\"\n",
    "\n",
    "#     def __call__(self, x):\n",
    "#         \"\"\"\n",
    "#         Make layer callable.\n",
    "#         \"\"\"\n",
    "#         self.x=x\n",
    "#         return self.forward(x)\n",
    "\n",
    "#     def forward(self, x):\n",
    "#         \"\"\"\n",
    "#         Compute the forward pass through the layer here.\n",
    "#         Do not apply activation here.\n",
    "#         Return self.a\n",
    "#         \"\"\"\n",
    "        \n",
    "#         self.a=np.matmul(self.x,self.w)+self.b # save the value for a;\n",
    "        \n",
    "        \n",
    "#         return self.a\n",
    "#     def backward(self, delta):\n",
    "#         \"\"\"\n",
    "#         Write the code for backward pass. This takes in gradient from its next layer as input,\n",
    "#         computes gradient for its weights and the delta to pass to its previous layers.\n",
    "#         Return self.dx\n",
    "#         \"\"\"\n",
    "        \n",
    "#         # the delta matrix from next layer have the dimentionality of N*F\n",
    "#         # Right after ariive this layer they become N*M \n",
    "#         self.prev_d_w=self.d_w # we define this for the purpose of apply momentum \n",
    "#         self.d_w=np.matmul(self.x.T,delta) \n",
    "        \n",
    "        \n",
    "\n",
    "#         # Now let's compute the d_b=delta*1\n",
    "#         # Its' vectorized form is 1*n vector(all ones since it's bias) *  n*M delta.\n",
    "#         bias_units=np.ones((1, len(self.x))).flatten()\n",
    "#         self.d_b=np.matmul(bias_units,delta)\n",
    "        \n",
    "\n",
    "#         # Then we should compute the weighted sum of the delta and pass it to the activation layer \n",
    "#         # In previous layer(activation layer). The full delta will be computed.\n",
    "#         # delta:N*M w:J*M (The notation switch here )\n",
    "#         # store weighted sum of delta as dx.\n",
    "        \n",
    "        \n",
    "#         self.d_x=np.matmul(delta,self.w.T)\n",
    "\n",
    "#         return self.d_x\n",
    "\n",
    "\n",
    "# class NeuralNetwork:\n",
    "#     \"\"\"\n",
    "#     Create a Neural Network specified by the input configuration.\n",
    "\n",
    "#     Example:\n",
    "#         >>> net = NeuralNetwork(config)\n",
    "#         >>> output = net(input)\n",
    "#         >>> net.backward()\n",
    "#     \"\"\"\n",
    "\n",
    "#     def __init__(self, config):\n",
    "#         \"\"\"\n",
    "#         Create the Neural Network using config.\n",
    "#         \"\"\"\n",
    "#         self.layers = []  # Store all layers in this list.\n",
    "#         self.x = None  # Save the input to forward in this\n",
    "#         self.y = None  # Save the output vector of model in this\n",
    "#         self.targets = None  # Save the targets in forward in this variable\n",
    "\n",
    "#         # Add layers specified by layer_specs.\n",
    "#         for i in range(len(config['layer_specs']) - 1):\n",
    "#             self.layers.append(Layer(config['layer_specs'][i], config['layer_specs'][i + 1]))\n",
    "#             if i < len(config['layer_specs']) - 2:\n",
    "#                 self.layers.append(Activation(config['activation']))\n",
    "\n",
    "#     def __call__(self, x, targets=None):\n",
    "#         \"\"\"\n",
    "#         Make NeuralNetwork callable.\n",
    "#         \"\"\"\n",
    "        \n",
    "#         return self.forward(x, targets)\n",
    "\n",
    "#     def forward(self, x, targets=None):\n",
    "#         \"\"\"\n",
    "#         Compute forward pass through all the layers in the network and return it.\n",
    "#         If targets are provided, return loss as well.\n",
    "#         \"\"\"\n",
    "        \n",
    "#         # Save the data here. \n",
    "#         self.x=x\n",
    "#         self.targets=targets\n",
    "\n",
    "#         # Now we are going to loop through each and every layer of our network. \n",
    "#         # our input signal will pass through these successive networks \n",
    "#         for i in self.layers:\n",
    "#             out=i(self.x) # Compute the output signal from a layer\n",
    "#             self.x=out # Store the output signal for latar use \n",
    "            \n",
    "            \n",
    "\n",
    "#         # Remeber that the last layer of the network is the output layer, which must\n",
    "#         # be gone through softmax transformation. \n",
    "#         self.y=self.softmax(self.x)\n",
    "        \n",
    "        \n",
    "#         if targets is not None:\n",
    "#             loss=self.loss(self.y,self.targets)\n",
    "#             return (self.y,loss)\n",
    "\n",
    "#         return self.y\n",
    "\n",
    "#     def backward(self):\n",
    "#         \"\"\"\n",
    "#         Implement backpropagation here.\n",
    "#         Call backward methods of individual layer's.\n",
    "#         \"\"\"\n",
    "\n",
    "#         # Get the necessary parameters for optimization. \n",
    "#         learning_rate=config[\"learning_rate\"]\n",
    "#         L2_penalty=config[\"L2_penalty\"]\n",
    "#         if_momentum=config[\"momentum\"]\n",
    "#         momentum_gamma=config[\"momentum_gamma\"]\n",
    "\n",
    "#         # before we start, we can compute the error signal. \n",
    "#         error_signal=self.targets-self.y\n",
    "        \n",
    "#         for i in range(len(self.layers)):\n",
    "            \n",
    "#             # Use negative indexing to travel backward.\n",
    "#             current_layer=self.layers[-(i+1)]\n",
    "#             # Feed in the current error signal and update error signal(delta) to the previous layer \n",
    "#             # Error signal here is just the weighted sum of delta\n",
    "#             error_signal=current_layer.backward(error_signal)\n",
    "#             # Update the weights and bias term based on gradient descent \n",
    "#             # During the update, per specification of the user, momentum and L2 regularization will be involved\n",
    "#             # So, our new weight change: Gamma*old_weight_change+(1-Gamma)*new_weight_change-2*lambda*w\n",
    "            \n",
    "#             # Need to notice that we only update the weights if the layer is not activation layer.\n",
    "#             if current_layer.type==\"layer\":\n",
    "#                 if if_momentum:\n",
    "#                     if current_layer.prev_d_w is None: # This happens during the first weight update \n",
    "#                         # Don't be confused by minus sign here. I do this becasue w=w+a*d_w; all signs are just flipped\n",
    "#                         combined_weight_change=current_layer.d_w-2*L2_penalty*current_layer.w\n",
    "#                     else:  \n",
    "#                         combined_weight_change=momentum_gamma*current_layer.prev_d_w+(1-momentum_gamma)*current_layer.d_w-2*L2_penalty*current_layer.w\n",
    "#                 else:\n",
    "#                     # Ignore the momentum term all the time; \n",
    "#                     combined_weight_change=current_layer.d_w-2*L2_penalty*current_layer.w\n",
    "\n",
    "#                 current_layer.w=current_layer.w+learning_rate*combined_weight_change\n",
    "\n",
    "\n",
    "#     def softmax(self, x):\n",
    "#         \"\"\"\n",
    "#         Implement the softmax function here.\n",
    "#         Remember to take care of the overflow condition.\n",
    "#         \"\"\"\n",
    "#         a=x\n",
    "#         a=np.clip(a,-20,20)\n",
    "#         a_exp = np.exp(a)\n",
    "#         partition = np.sum(a_exp, axis=1).reshape(-1,1)\n",
    "#         return a_exp / partition\n",
    "\n",
    "#     def loss(self, logits, targets):\n",
    "#         \"\"\"\n",
    "#         Compute the categorical cross-entropy loss and return it.\n",
    "#         \"\"\"\n",
    "#         # We reuse the code for logistic regression.\n",
    "#         y=logits\n",
    "#         t=targets\n",
    "#         entropy=np.zeros(t.shape[0])\n",
    "#         for i in range(10):\n",
    "#             target_column=t[:,i]\n",
    "#             prediction_column=y[:,i]\n",
    "#             entropy+=target_column*np.log(prediction_column)\n",
    "#         return -np.mean(entropy/10)\n",
    "    \n",
    "    \n",
    "\n",
    "# def train(x_train_in, y_train_in, x_val, y_val, config, experiment=None):\n",
    "#     \"\"\"\n",
    "#     Train your model here using batch stochastic gradient descent and early stopping. Use config to set parameters\n",
    "#     for training like learning rate, momentum, etc.\n",
    "\n",
    "#     Args:\n",
    "#         x_train: The train patterns\n",
    "#         y_train: The train labels; \n",
    "#         x_val: The validation set patterns\n",
    "#         y_val: The validation set labels\n",
    "#         config: The configs as specified in config.yaml\n",
    "#         experiment: An optional dict parameter for you to specify which experiment you want to run in train.\n",
    "\n",
    "#     Returns:\n",
    "#         5 things:\n",
    "#             training and validation loss and accuracies - 1D arrays of loss and accuracy values per epoch.\n",
    "#             best model - an instance of class NeuralNetwork. You can use copy.deepcopy(model) to save the best model.\n",
    "#     \"\"\"\n",
    "#     train_acc = []\n",
    "#     val_acc = []\n",
    "#     train_loss = []\n",
    "#     val_loss = []\n",
    "#     best_model = None\n",
    "\n",
    "#     model = NeuralNetwork(config=config)\n",
    "\n",
    "#     # Read in some of the model parameters:\n",
    "#     epochs=config[\"epochs\"]\n",
    "#     if_early_stop=config[\"early_stop\"]\n",
    "#     early_stop_epoch=config['early_stop_epoch']\n",
    "#     batch_size=config[\"batch_size\"]\n",
    "    \n",
    "#     y_train_in=one_hot_encoding(y_train_in)\n",
    "#     train_dataset=(x_train_in,y_train_in)\n",
    "\n",
    "#     # Determine the number of iterations that will be used fortraining\n",
    "#     terations_num=None\n",
    "\n",
    "#     if if_early_stop:\n",
    "#         iterations_num=early_stop_epoch\n",
    "#     else:\n",
    "#         iterations_num=epochs\n",
    "        \n",
    "\n",
    "#     for i in range(iterations_num):\n",
    "#         # shuffle the dataset and generate minibatchs. \n",
    "#         train_dataset=shuffle(train_dataset)\n",
    "#         for X_train,y_train in generate_minibatches(train_dataset,batch_size=batch_size):\n",
    "#             # A forward pass to make prediction\n",
    "#             model(X_train,targets=y_train)\n",
    "#             # A backward pass to adjust the weights \n",
    "#             model.backward()\n",
    "#         # Evaluate model's performance on training set. \n",
    "#         predictions,loss=model.forward(x_train_in,targets=y_train_in)\n",
    "#         predicted_labels=np.argmax(predictions,axis=1)\n",
    "#         restored_labels=np.argmax(y_train_in,axis=1)\n",
    "#         single_accuracy=np.mean(predicted_labels== restored_labels)\n",
    "#         train_acc.append(single_accuracy)\n",
    "#         train_loss.append(loss)\n",
    "#         # Evaluate model's performance on validation set.\n",
    "#         val_oh=one_hot_encoding(y_val)\n",
    "#         p1,l2=model.forward(x_val,targets=val_oh)\n",
    "#         predicted=np.argmax(p1,axis=1)\n",
    "#         acc=np.mean(predicted==y_val)\n",
    "#         val_acc.append(acc)\n",
    "#         val_loss.append(l2)\n",
    "    \n",
    "#     return train_acc, val_acc, train_loss, val_loss, model\n",
    "\n",
    "\n",
    "\n",
    "# def test(model, x_test, y_test):\n",
    "#     \"\"\"\n",
    "#     Does a forward pass on the model and returns loss and accuracy on the test set.\n",
    "\n",
    "#     Args:\n",
    "#         model: The trained model to run a forward pass on.\n",
    "#         x_test: The test patterns.\n",
    "#         y_test: The test labels.\n",
    "\n",
    "#     Returns:\n",
    "#         Loss, Test accuracy\n",
    "#     \"\"\"\n",
    "#     # return loss, accuracy\n",
    "#     y_test_oh=one_hot_encoding(y_test)\n",
    "#     test_prediction,test_loss=model.forward(x_test,targets=y_test_oh)\n",
    "#     test_labels_predicted=np.argmax(test_prediction,axis=1)\n",
    "#     return test_loss,np.mean(test_labels_predicted==y_test)"
   ]
  },
  {
   "cell_type": "markdown",
   "metadata": {},
   "source": [
    "# with no regularization"
   ]
  },
  {
   "cell_type": "code",
   "execution_count": 361,
   "metadata": {},
   "outputs": [],
   "source": [
    "import numpy as np\n",
    "import math\n",
    "import matplotlib.pyplot as plt\n",
    "\n",
    "\n",
    "class Activation:\n",
    "    \"\"\"\n",
    "    The class implements different types of activation functions for\n",
    "    your neural network layers.\n",
    "\n",
    "    Example (for sigmoid):\n",
    "        >>> sigmoid_layer = Activation(\"sigmoid\")\n",
    "        >>> z = sigmoid_layer(a)\n",
    "        >>> gradient = sigmoid_layer.backward(delta)\n",
    "    \"\"\"\n",
    "\n",
    "    def __init__(self, activation_type=\"sigmoid\"):\n",
    "        \"\"\"\n",
    "        Initialize activation type and placeholders here.\n",
    "        \"\"\"\n",
    "        if activation_type not in [\"sigmoid\", \"tanh\", \"ReLU\"]:\n",
    "            raise NotImplementedError(\"%s is not implemented.\" % (activation_type))\n",
    "\n",
    "        # Type of non-linear activation.\n",
    "        self.activation_type = activation_type\n",
    "        # Placeholder for input. This will be used for computing gradients.\n",
    "        # Remember from my write up that a is a J*N matrix, where J is number of units being connected \n",
    "        # and N is number of data points in our minibatch.\n",
    "        self.x = None\n",
    "        \n",
    "        # State the type of the layer to differentiate from normal layer\n",
    "        self.type=\"activation\"\n",
    "\n",
    "    def __call__(self, a):\n",
    "        \"\"\"\n",
    "        This method allows your instances to be callable.\n",
    "        \"\"\"\n",
    "        # We need to save this vector, a, for computing the gradient evaluated at a.\n",
    "        self.x=a\n",
    "        return self.forward(a)\n",
    "\n",
    "    def forward(self, a):\n",
    "        \"\"\"\n",
    "        Compute the forward pass.\n",
    "        \"\"\"\n",
    "        \n",
    "        \n",
    "        if self.activation_type == \"sigmoid\":\n",
    "            return self.sigmoid(a)\n",
    "\n",
    "        elif self.activation_type == \"tanh\":\n",
    "            return self.tanh(a)\n",
    "\n",
    "        elif self.activation_type == \"ReLU\":\n",
    "            return self.ReLU(a)\n",
    "\n",
    "    def backward(self, delta):\n",
    "        \"\"\"\n",
    "        Compute the backward pass.\n",
    "        \"\"\"\n",
    "        if self.activation_type == \"sigmoid\":\n",
    "            grad = self.grad_sigmoid()\n",
    "\n",
    "        elif self.activation_type == \"tanh\":\n",
    "            grad = self.grad_tanh()\n",
    "\n",
    "        elif self.activation_type == \"ReLU\":\n",
    "            grad = self.grad_ReLU()\n",
    "\n",
    "        return grad * delta\n",
    "\n",
    "    def sigmoid(self, x):\n",
    "        \"\"\"\n",
    "        Implement the sigmoid activation here.\n",
    "        Notice that I implement the clipping to avoid numerical overflow \n",
    "        \"\"\"\n",
    "        x=np.clip(x,-20,20)\n",
    "        return 1/(1+np.exp(-x))\n",
    "\n",
    "    def tanh(self, x):\n",
    "        \"\"\"\n",
    "        Implement tanh here.\n",
    "        \"\"\"\n",
    "        return 1.7159*np.tanh((2/3)*x)\n",
    "        \n",
    "\n",
    "    def ReLU(self, x):\n",
    "        \"\"\"\n",
    "        Implement ReLU here.\n",
    "        \"\"\"\n",
    "        # Apply element-wise relu to a given matrix element-wise\n",
    "       \n",
    "        return np.clip(self.x,0,a_max=200)\n",
    "\n",
    "    def grad_sigmoid(self):\n",
    "        \"\"\"\n",
    "        Compute the gradient for sigmoid here.\n",
    "        \"\"\"\n",
    "        return self.sigmoid(self.x)*(1-self.sigmoid(self.x))\n",
    "\n",
    "    def grad_tanh(self):\n",
    "        \"\"\"\n",
    "        Compute the gradient for tanh here.\n",
    "        \"\"\"\n",
    "        return 1-np.square(np.tanh(self.x))\n",
    "\n",
    "    def grad_ReLU(self):\n",
    "        \"\"\"\n",
    "        Compute the gradient for ReLU here.\n",
    "        \"\"\"\n",
    "        original_shape=self.x.shape\n",
    "        x=self.x.flatten()\n",
    "        out=[]\n",
    "        for i in range(len(x)):\n",
    "            if x[i]>=0:\n",
    "                out.append(1)\n",
    "            else:\n",
    "                out.append(0)\n",
    "        out=np.array(out)\n",
    "        return out.reshape(original_shape)\n",
    "\n",
    "\n",
    "class Layer:\n",
    "    \"\"\"\n",
    "    This class implements Fully Connected layers for your neural network.\n",
    "\n",
    "    Example:\n",
    "        >>> fully_connected_layer = Layer(1024, 100)\n",
    "        >>> output = fully_connected_layer(input)\n",
    "        >>> gradient = fully_connected_layer.backward(delta)\n",
    "    \"\"\"\n",
    "\n",
    "    def __init__(self, in_units, out_units):\n",
    "        \"\"\"\n",
    "        Define the architecture and create placeholder.\n",
    "        \"\"\"        \n",
    "        \n",
    "        np.random.seed(42)\n",
    "        self.w = math.sqrt(2 / in_units) * np.random.randn(in_units,\n",
    "                                                           out_units)  # You can experiment with initialization.\n",
    "        # Notice that the dimension 1*M is suffice due to the fact array can be broadcasted\n",
    "        self.b = np.random.randn(1, out_units).flatten()  # Create a placeholder for Bias; \n",
    "        self.x = None  # Save the input to forward in this; This is dimension of N*j.\n",
    "        self.a = None  # Save the output of forward pass in this (without activation)\n",
    "\n",
    "        self.d_x = None  # Save the gradient w.r.t x in this\n",
    "        self.d_w = None  # Save the gradient w.r.t w in this\n",
    "        self.d_b = None  # Save the gradient w.r.t b in this\n",
    "\n",
    "\n",
    "        self.prev_d_w=None\n",
    "        \n",
    "        # State the type of the layer to differentiate from activation layer\n",
    "        self.type=\"layer\"\n",
    "\n",
    "    def __call__(self, x):\n",
    "        \"\"\"\n",
    "        Make layer callable.\n",
    "        \"\"\"\n",
    "        self.x=x\n",
    "        return self.forward(x)\n",
    "\n",
    "    def forward(self, x):\n",
    "        \"\"\"\n",
    "        Compute the forward pass through the layer here.\n",
    "        Do not apply activation here.\n",
    "        Return self.a\n",
    "        \"\"\"\n",
    "        \n",
    "        self.a=np.matmul(self.x,self.w)+self.b # save the value for a;\n",
    "        \n",
    "        \n",
    "        return self.a\n",
    "    def backward(self, delta):\n",
    "        \"\"\"\n",
    "        Write the code for backward pass. This takes in gradient from its next layer as input,\n",
    "        computes gradient for its weights and the delta to pass to its previous layers.\n",
    "        Return self.dx\n",
    "        \"\"\"\n",
    "        \n",
    "        # the delta matrix from next layer have the dimentionality of N*F\n",
    "        # Right after ariive this layer they become N*M \n",
    "        self.prev_d_w=self.d_w # we define this for the purpose of apply momentum \n",
    "        \n",
    "        #l2 regularization\n",
    "        #self.d_w=np.matmul(self.x.T,delta) - 0.0000001 * self.w\n",
    "        \n",
    "        #l1 regularization\n",
    "        self.d_w=np.matmul(self.x.T,delta) - 0.0001 * 1\n",
    "        \n",
    "        \n",
    "\n",
    "        # Now let's compute the d_b=delta*1\n",
    "        # Its' vectorized form is 1*n vector(all ones since it's bias) *  n*M delta.\n",
    "        bias_units=np.ones((1, len(self.x))).flatten()\n",
    "        self.d_b=np.matmul(bias_units,delta)\n",
    "        \n",
    "\n",
    "        # Then we should compute the weighted sum of the delta and pass it to the activation layer \n",
    "        # In previous layer(activation layer). The full delta will be computed.\n",
    "        # delta:N*M w:J*M (The notation switch here )\n",
    "        # store weighted sum of delta as dx.\n",
    "        \n",
    "        \n",
    "        self.d_x=np.matmul(delta,self.w.T)\n",
    "\n",
    "        return self.d_x\n",
    "\n",
    "\n",
    "class NeuralNetwork:\n",
    "    \"\"\"\n",
    "    Create a Neural Network specified by the input configuration.\n",
    "\n",
    "    Example:\n",
    "        >>> net = NeuralNetwork(config)\n",
    "        >>> output = net(input)\n",
    "        >>> net.backward()\n",
    "    \"\"\"\n",
    "\n",
    "    def __init__(self, config):\n",
    "        \"\"\"\n",
    "        Create the Neural Network using config.\n",
    "        \"\"\"\n",
    "        self.layers = []  # Store all layers in this list.\n",
    "        self.x = None  # Save the input to forward in this\n",
    "        self.y = None  # Save the output vector of model in this\n",
    "        self.targets = None  # Save the targets in forward in this variable\n",
    "\n",
    "        # Add layers specified by layer_specs.\n",
    "        for i in range(len(config['layer_specs']) - 1):\n",
    "            self.layers.append(Layer(config['layer_specs'][i], config['layer_specs'][i + 1]))\n",
    "            if i < len(config['layer_specs']) - 2:\n",
    "                self.layers.append(Activation(config['activation']))\n",
    "\n",
    "    def __call__(self, x, targets=None):\n",
    "        \"\"\"\n",
    "        Make NeuralNetwork callable.\n",
    "        \"\"\"\n",
    "        \n",
    "        return self.forward(x, targets)\n",
    "\n",
    "    def forward(self, x, targets=None):\n",
    "        \"\"\"\n",
    "        Compute forward pass through all the layers in the network and return it.\n",
    "        If targets are provided, return loss as well.\n",
    "        \"\"\"\n",
    "        \n",
    "        # Save the data here. \n",
    "        self.x=x\n",
    "        self.targets=targets\n",
    "\n",
    "        # Now we are going to loop through each and every layer of our network. \n",
    "        # our input signal will pass through these successive networks \n",
    "        for i in self.layers:\n",
    "            out=i(self.x) # Compute the output signal from a layer\n",
    "            self.x=out # Store the output signal for latar use \n",
    "            \n",
    "            \n",
    "\n",
    "        # Remeber that the last layer of the network is the output layer, which must\n",
    "        # be gone through softmax transformation. \n",
    "        self.y=self.softmax(self.x)\n",
    "        \n",
    "        \n",
    "        if targets is not None:\n",
    "            loss=self.loss(self.y,self.targets)\n",
    "\n",
    "            # regularization\n",
    "            for i, layer in enumerate(self.layers):\n",
    "                if i%2==0:\n",
    "                    #l2 regularization\n",
    "#                     loss += 0.5 * 0.0000001 * np.sum(layer.w)\n",
    "                    \n",
    "                    #l1 regularization\n",
    "                    loss += 0.5 * 0.0001 * np.sum(np.abs(layer.w))\n",
    "\n",
    "            return (self.y,loss)\n",
    "\n",
    "        return self.y\n",
    "\n",
    "    def backward(self):\n",
    "        \"\"\"\n",
    "        Implement backpropagation here.\n",
    "        Call backward methods of individual layer's.\n",
    "        \"\"\"\n",
    "\n",
    "        # Get the necessary parameters for optimization. \n",
    "        learning_rate=config[\"learning_rate\"]\n",
    "        L2_penalty=config[\"L2_penalty\"]\n",
    "        if_momentum=config[\"momentum\"]\n",
    "        momentum_gamma=config[\"momentum_gamma\"]\n",
    "\n",
    "        # before we start, we can compute the error signal. \n",
    "        error_signal=self.targets-self.y\n",
    "        \n",
    "        for i in range(len(self.layers)):\n",
    "            \n",
    "            # Use negative indexing to travel backward.\n",
    "            current_layer=self.layers[-(i+1)]\n",
    "            # Feed in the current error signal and update error signal(delta) to the previous layer \n",
    "            # Error signal here is just the weighted sum of delta\n",
    "            error_signal=current_layer.backward(error_signal)\n",
    "            # Update the weights and bias term based on gradient descent \n",
    "            # During the update, per specification of the user, momentum and L2 regularization will be involved\n",
    "            # So, our new weight change: Gamma*old_weight_change+(1-Gamma)*new_weight_change-2*lambda*w\n",
    "            \n",
    "            # Need to notice that we only update the weights if the layer is not activation layer.\n",
    "            if current_layer.type==\"layer\":\n",
    "                if if_momentum:\n",
    "                    if current_layer.prev_d_w is None: # This happens during the first weight update \n",
    "                        # Don't be confused by minus sign here. I do this becasue w=w+a*d_w; all signs are just flipped\n",
    "                        combined_weight_change=current_layer.d_w-2*L2_penalty*current_layer.w\n",
    "                    else:  \n",
    "                        combined_weight_change=momentum_gamma*current_layer.prev_d_w+(1-momentum_gamma)*current_layer.d_w-2*L2_penalty*current_layer.w\n",
    "                else:\n",
    "                    # Ignore the momentum term all the time; \n",
    "                    combined_weight_change=current_layer.d_w-2*L2_penalty*current_layer.w\n",
    "\n",
    "                current_layer.w=current_layer.w+learning_rate*combined_weight_change\n",
    "\n",
    "\n",
    "    def softmax(self, x):\n",
    "        \"\"\"\n",
    "        Implement the softmax function here.\n",
    "        Remember to take care of the overflow condition.\n",
    "        \"\"\"\n",
    "        a=x\n",
    "        a=np.clip(a,-20,20)\n",
    "        a_exp = np.exp(a)\n",
    "        partition = np.sum(a_exp, axis=1).reshape(-1,1)\n",
    "        return a_exp / partition\n",
    "\n",
    "    def loss(self, logits, targets):\n",
    "        \"\"\"\n",
    "        Compute the categorical cross-entropy loss and return it.\n",
    "        \"\"\"\n",
    "        # We reuse the code for logistic regression.\n",
    "        y=logits\n",
    "        t=targets\n",
    "        entropy=np.zeros(t.shape[0])\n",
    "        for i in range(10):\n",
    "            target_column=t[:,i]\n",
    "            prediction_column=y[:,i]\n",
    "            entropy+=target_column*np.log(prediction_column)\n",
    "        return -np.mean(entropy/10)\n",
    "    \n",
    "    \n",
    "\n",
    "def train(x_train_in, y_train_in, x_val, y_val, config, experiment=None):\n",
    "    \"\"\"\n",
    "    Train your model here using batch stochastic gradient descent and early stopping. Use config to set parameters\n",
    "    for training like learning rate, momentum, etc.\n",
    "\n",
    "    Args:\n",
    "        x_train: The train patterns\n",
    "        y_train: The train labels; \n",
    "        x_val: The validation set patterns\n",
    "        y_val: The validation set labels\n",
    "        config: The configs as specified in config.yaml\n",
    "        experiment: An optional dict parameter for you to specify which experiment you want to run in train.\n",
    "\n",
    "    Returns:\n",
    "        5 things:\n",
    "            training and validation loss and accuracies - 1D arrays of loss and accuracy values per epoch.\n",
    "            best model - an instance of class NeuralNetwork. You can use copy.deepcopy(model) to save the best model.\n",
    "    \"\"\"\n",
    "    train_acc = []\n",
    "    val_acc = []\n",
    "    train_loss = []\n",
    "    val_loss = []\n",
    "    best_model = None\n",
    "\n",
    "    model = NeuralNetwork(config=config)\n",
    "\n",
    "    # Read in some of the model parameters:\n",
    "    epochs=config[\"epochs\"]\n",
    "    if_early_stop=config[\"early_stop\"]\n",
    "    early_stop_epoch=config['early_stop_epoch']\n",
    "    batch_size=config[\"batch_size\"]\n",
    "    \n",
    "    y_train_in=one_hot_encoding(y_train_in)\n",
    "    train_dataset=(x_train_in,y_train_in)\n",
    "\n",
    "    # Determine the number of iterations that will be used fortraining\n",
    "    terations_num=None\n",
    "\n",
    "    if if_early_stop:\n",
    "        iterations_num=early_stop_epoch\n",
    "    else:\n",
    "        iterations_num=epochs\n",
    "        \n",
    "\n",
    "    for i in range(iterations_num):\n",
    "        # shuffle the dataset and generate minibatchs. \n",
    "        train_dataset=shuffle(train_dataset)\n",
    "        for X_train,y_train in generate_minibatches(train_dataset,batch_size=batch_size):\n",
    "            # A forward pass to make prediction\n",
    "            model(X_train,targets=y_train)\n",
    "            # A backward pass to adjust the weights \n",
    "            model.backward()\n",
    "        # Evaluate model's performance on training set. \n",
    "        predictions,loss=model.forward(x_train_in,targets=y_train_in)\n",
    "        predicted_labels=np.argmax(predictions,axis=1)\n",
    "        restored_labels=np.argmax(y_train_in,axis=1)\n",
    "        single_accuracy=np.mean(predicted_labels== restored_labels)\n",
    "        train_acc.append(single_accuracy)\n",
    "        train_loss.append(loss)\n",
    "        # Evaluate model's performance on validation set.\n",
    "        val_oh=one_hot_encoding(y_val)\n",
    "        p1,l2=model.forward(x_val,targets=val_oh)\n",
    "        predicted=np.argmax(p1,axis=1)\n",
    "        acc=np.mean(predicted==y_val)\n",
    "        val_acc.append(acc)\n",
    "        val_loss.append(l2)\n",
    "    \n",
    "    return train_acc, val_acc, train_loss, val_loss, model\n",
    "\n",
    "\n",
    "\n",
    "def test(model, x_test, y_test):\n",
    "    \"\"\"\n",
    "    Does a forward pass on the model and returns loss and accuracy on the test set.\n",
    "\n",
    "    Args:\n",
    "        model: The trained model to run a forward pass on.\n",
    "        x_test: The test patterns.\n",
    "        y_test: The test labels.\n",
    "\n",
    "    Returns:\n",
    "        Loss, Test accuracy\n",
    "    \"\"\"\n",
    "    # return loss, accuracy\n",
    "    y_test_oh=one_hot_encoding(y_test)\n",
    "    test_prediction,test_loss=model.forward(x_test,targets=y_test_oh)\n",
    "    test_labels_predicted=np.argmax(test_prediction,axis=1)\n",
    "    return test_loss,np.mean(test_labels_predicted==y_test)"
   ]
  },
  {
   "cell_type": "code",
   "execution_count": 362,
   "metadata": {},
   "outputs": [],
   "source": [
    "# Load the data and perform train-validation split\n",
    "train_data=load_data(train=True)\n",
    "data=shuffle(train_data)\n",
    "tra_data,b=z_score_normalize(data[0][0:48000,:])\n",
    "val_data,b=z_score_normalize(data[0][48000:,:])\n",
    "tra_labels=data[1][0:48000]\n",
    "val_labels=data[1][48000:]\n",
    "test_data=load_data(train=False)\n",
    "x_test,a=z_score_normalize(test_data[0])\n",
    "y_test=test_data[1]"
   ]
  },
  {
   "cell_type": "code",
   "execution_count": 363,
   "metadata": {},
   "outputs": [],
   "source": [
    "config = load_config(\"./config.yaml\")"
   ]
  },
  {
   "cell_type": "markdown",
   "metadata": {},
   "source": [
    "# Regularization --- L2/L1"
   ]
  },
  {
   "cell_type": "code",
   "execution_count": 364,
   "metadata": {},
   "outputs": [],
   "source": [
    "# Customize the parameters for quik check.\n",
    "config[\"layer_specs\"]=[784, 128, 10]\n",
    "config[\"batch_size\"]=129\n",
    "config[\"early_stop\"]=True\n",
    "config[\"early_stop_epoch\"]=25\n",
    "config[\"activation\"]=\"tanh\"\n",
    "config[\"learning_rate\"]=0.0005\n",
    "config[\"epochs\"]=100\n",
    "config[\"L2_penalty\"]=0.0001\n",
    "config[\"momentum\"]=True\n",
    "config[\"momentum_gamma\"]=0.9"
   ]
  },
  {
   "cell_type": "code",
   "execution_count": 365,
   "metadata": {},
   "outputs": [
    {
     "data": {
      "image/png": "[encoded data removed]",
      "text/plain": [
       "<Figure size 432x288 with 1 Axes>"
      ]
     },
     "metadata": {
      "needs_background": "light"
     },
     "output_type": "display_data"
    }
   ],
   "source": [
    "train_acc, valid_acc, train_loss, valid_loss, best_model=train(tra_data, tra_labels, val_data, val_labels, config)\n",
    "plt.plot(train_acc, label='Training')\n",
    "plt.plot(valid_acc, label='Validation')\n",
    "plt.title('Training and Validation Accuracies')\n",
    "plt.xlabel('Epochs')\n",
    "plt.ylabel('Accuracy')\n",
    "plt.legend()\n",
    "plt.show()"
   ]
  },
  {
   "cell_type": "code",
   "execution_count": 366,
   "metadata": {},
   "outputs": [
    {
     "data": {
      "image/png": "[encoded data removed]",
      "text/plain": [
       "<Figure size 432x288 with 1 Axes>"
      ]
     },
     "metadata": {
      "needs_background": "light"
     },
     "output_type": "display_data"
    }
   ],
   "source": [
    "plt.plot(train_loss, label='Training')\n",
    "plt.plot(valid_loss, label='Validation')\n",
    "plt.title('Training and Validation Losses')\n",
    "plt.xlabel('Epoches')\n",
    "plt.ylabel('Loss')\n",
    "plt.legend()\n",
    "plt.show()"
   ]
  },
  {
   "cell_type": "code",
   "execution_count": 367,
   "metadata": {},
   "outputs": [
    {
     "name": "stdout",
     "output_type": "stream",
     "text": [
      "Config: {'layer_specs': [784, 128, 10], 'activation': 'tanh', 'learning_rate': 0.0005, 'batch_size': 129, 'epochs': 100, 'early_stop': True, 'early_stop_epoch': 25, 'L2_penalty': 0.0001, 'momentum': True, 'momentum_gamma': 0.9}\n",
      "Test Loss 0.2951137580089096\n",
      "Test Accuracy 0.8521\n"
     ]
    }
   ],
   "source": [
    "test_loss, test_acc = test(best_model, x_test, y_test)\n",
    "print(\"Config: %r\" % config)\n",
    "print(\"Test Loss\", test_loss)\n",
    "print(\"Test Accuracy\", test_acc)"
   ]
  },
  {
   "cell_type": "code",
   "execution_count": null,
   "metadata": {},
   "outputs": [],
   "source": []
  },
  {
   "cell_type": "code",
   "execution_count": null,
   "metadata": {},
   "outputs": [],
   "source": []
  },
  {
   "cell_type": "code",
   "execution_count": null,
   "metadata": {},
   "outputs": [],
   "source": []
  },
  {
   "cell_type": "markdown",
   "metadata": {},
   "source": [
    "# Tanh"
   ]
  },
  {
   "cell_type": "code",
   "execution_count": 283,
   "metadata": {},
   "outputs": [],
   "source": [
    "# Customize the parameters for quik check.\n",
    "config[\"layer_specs\"]=[784, 128, 10]\n",
    "config[\"batch_size\"]=129\n",
    "config[\"early_stop\"]=True\n",
    "config[\"early_stop_epoch\"]=100\n",
    "config[\"activation\"]=\"tanh\"\n",
    "config[\"learning_rate\"]=0.0005\n",
    "config[\"epochs\"]=100\n",
    "config[\"L2_penalty\"]=0.0001\n",
    "config[\"momentum\"]=True\n",
    "config[\"momentum_gamma\"]=0.9"
   ]
  },
  {
   "cell_type": "code",
   "execution_count": 284,
   "metadata": {},
   "outputs": [],
   "source": [
    "def generate_minibatches(dataset, batch_size=64):\n",
    "    X, y = dataset\n",
    "    l_idx, r_idx = 0, batch_size\n",
    "    while r_idx < len(X):\n",
    "        yield X[l_idx:r_idx], y[l_idx:r_idx]\n",
    "        l_idx, r_idx = r_idx, r_idx + batch_size\n",
    "    yield X[l_idx:], y[l_idx:]"
   ]
  },
  {
   "cell_type": "code",
   "execution_count": 285,
   "metadata": {},
   "outputs": [],
   "source": [
    "train_acc, valid_acc, train_loss, valid_loss, best_model=train(tra_data, tra_labels, val_data, val_labels, config)"
   ]
  },
  {
   "cell_type": "code",
   "execution_count": 286,
   "metadata": {},
   "outputs": [
    {
     "data": {
      "image/png": "[encoded data removed]",
      "text/plain": [
       "<Figure size 432x288 with 1 Axes>"
      ]
     },
     "metadata": {
      "needs_background": "light"
     },
     "output_type": "display_data"
    }
   ],
   "source": [
    "plt.plot(train_acc, label='Training')\n",
    "plt.plot(valid_acc, label='Validation')\n",
    "plt.title('Training and Validation Accuracies')\n",
    "plt.xlabel('Epochs')\n",
    "plt.ylabel('Accuracy')\n",
    "plt.legend()\n",
    "plt.show()"
   ]
  },
  {
   "cell_type": "code",
   "execution_count": 287,
   "metadata": {
    "scrolled": true
   },
   "outputs": [
    {
     "data": {
      "image/png": "[encoded data removed]",
      "text/plain": [
       "<Figure size 432x288 with 1 Axes>"
      ]
     },
     "metadata": {
      "needs_background": "light"
     },
     "output_type": "display_data"
    }
   ],
   "source": [
    "plt.plot(train_loss, label='Training')\n",
    "plt.plot(valid_loss, label='Validation')\n",
    "plt.title('Training and Validation Losses')\n",
    "plt.xlabel('Epoches')\n",
    "plt.ylabel('Loss')\n",
    "plt.legend()\n",
    "plt.show()"
   ]
  },
  {
   "cell_type": "code",
   "execution_count": 288,
   "metadata": {
    "scrolled": true
   },
   "outputs": [
    {
     "name": "stdout",
     "output_type": "stream",
     "text": [
      "Config: {'layer_specs': [784, 128, 10], 'activation': 'tanh', 'learning_rate': 0.0005, 'batch_size': 129, 'epochs': 100, 'early_stop': True, 'early_stop_epoch': 100, 'L2_penalty': 0.0001, 'momentum': True, 'momentum_gamma': 0.9}\n",
      "Test Loss 0.07223660156825719\n",
      "Test Accuracy 0.8515\n"
     ]
    }
   ],
   "source": [
    "test_loss, test_acc = test(best_model, x_test, y_test)\n",
    "print(\"Config: %r\" % config)\n",
    "print(\"Test Loss\", test_loss)\n",
    "print(\"Test Accuracy\", test_acc)"
   ]
  },
  {
   "cell_type": "markdown",
   "metadata": {},
   "source": [
    "# Sigmoid"
   ]
  },
  {
   "cell_type": "code",
   "execution_count": 289,
   "metadata": {},
   "outputs": [],
   "source": [
    "# Customize the parameters for quik check.\n",
    "config[\"layer_specs\"]=[784, 128, 10]\n",
    "config[\"batch_size\"]=129\n",
    "config[\"early_stop\"]=True\n",
    "config[\"early_stop_epoch\"]=25\n",
    "config[\"activation\"]=\"sigmoid\"\n",
    "config[\"learning_rate\"]=0.0005\n",
    "config[\"epochs\"]=100\n",
    "config[\"L2_penalty\"]=0.0001\n",
    "config[\"momentum\"]=True\n",
    "config[\"momentum_gamma\"]=0.9"
   ]
  },
  {
   "cell_type": "code",
   "execution_count": 290,
   "metadata": {},
   "outputs": [],
   "source": [
    "train_acc, valid_acc, train_loss, valid_loss, best_model=train(tra_data, tra_labels, val_data, val_labels, config)"
   ]
  },
  {
   "cell_type": "code",
   "execution_count": 291,
   "metadata": {},
   "outputs": [
    {
     "data": {
      "image/png": "[encoded data removed]",
      "text/plain": [
       "<Figure size 432x288 with 1 Axes>"
      ]
     },
     "metadata": {
      "needs_background": "light"
     },
     "output_type": "display_data"
    }
   ],
   "source": [
    "plt.plot(train_acc, label='Training')\n",
    "plt.plot(valid_acc, label='Validation')\n",
    "plt.title('Training and Validation Accuracies')\n",
    "plt.xlabel('Epochs')\n",
    "plt.ylabel('Accuracy')\n",
    "plt.legend()\n",
    "plt.show()"
   ]
  },
  {
   "cell_type": "code",
   "execution_count": 292,
   "metadata": {},
   "outputs": [
    {
     "data": {
      "image/png": "[encoded data removed]",
      "text/plain": [
       "<Figure size 432x288 with 1 Axes>"
      ]
     },
     "metadata": {
      "needs_background": "light"
     },
     "output_type": "display_data"
    }
   ],
   "source": [
    "plt.plot(train_loss, label='Training')\n",
    "plt.plot(valid_loss, label='Validation')\n",
    "plt.title('Training and Validation Losses')\n",
    "plt.xlabel('Epoches')\n",
    "plt.ylabel('Loss')\n",
    "plt.legend()\n",
    "plt.show()"
   ]
  },
  {
   "cell_type": "code",
   "execution_count": 293,
   "metadata": {},
   "outputs": [
    {
     "name": "stdout",
     "output_type": "stream",
     "text": [
      "Config: {'layer_specs': [784, 128, 10], 'activation': 'sigmoid', 'learning_rate': 0.0005, 'batch_size': 129, 'epochs': 100, 'early_stop': True, 'early_stop_epoch': 25, 'L2_penalty': 0.0001, 'momentum': True, 'momentum_gamma': 0.9}\n",
      "Test Loss 0.05736592934362659\n",
      "Test Accuracy 0.8305\n"
     ]
    }
   ],
   "source": [
    "test_loss, test_acc = test(best_model, x_test, y_test)\n",
    "print(\"Config: %r\" % config)\n",
    "print(\"Test Loss\", test_loss)\n",
    "print(\"Test Accuracy\", test_acc)"
   ]
  },
  {
   "cell_type": "markdown",
   "metadata": {},
   "source": [
    "# ReLU"
   ]
  },
  {
   "cell_type": "code",
   "execution_count": 299,
   "metadata": {},
   "outputs": [],
   "source": [
    "# Customize the parameters for quik check.\n",
    "config[\"layer_specs\"]=[784, 128, 10]\n",
    "config[\"batch_size\"]=129\n",
    "config[\"early_stop\"]=True\n",
    "config[\"early_stop_epoch\"]=25\n",
    "config[\"activation\"]=\"ReLU\"\n",
    "config[\"learning_rate\"]=0.0005\n",
    "config[\"epochs\"]=100\n",
    "config[\"L2_penalty\"]=0.0001\n",
    "config[\"momentum\"]=True\n",
    "config[\"momentum_gamma\"]=0.9"
   ]
  },
  {
   "cell_type": "code",
   "execution_count": 300,
   "metadata": {},
   "outputs": [],
   "source": [
    "train_acc, valid_acc, train_loss, valid_loss, best_model=train(tra_data, tra_labels, val_data, val_labels, config)"
   ]
  },
  {
   "cell_type": "code",
   "execution_count": 301,
   "metadata": {},
   "outputs": [
    {
     "data": {
      "image/png": "[encoded data removed]",
      "text/plain": [
       "<Figure size 432x288 with 1 Axes>"
      ]
     },
     "metadata": {
      "needs_background": "light"
     },
     "output_type": "display_data"
    }
   ],
   "source": [
    "plt.plot(train_acc, label='Training')\n",
    "plt.plot(valid_acc, label='Validation')\n",
    "plt.title('Training and Validation Accuracies')\n",
    "plt.xlabel('Epochs')\n",
    "plt.ylabel('Accuracy')\n",
    "plt.legend()\n",
    "plt.show()"
   ]
  },
  {
   "cell_type": "code",
   "execution_count": 302,
   "metadata": {},
   "outputs": [
    {
     "data": {
      "image/png": "[encoded data removed]",
      "text/plain": [
       "<Figure size 432x288 with 1 Axes>"
      ]
     },
     "metadata": {
      "needs_background": "light"
     },
     "output_type": "display_data"
    }
   ],
   "source": [
    "plt.plot(train_loss, label='Training')\n",
    "plt.plot(valid_loss, label='Validation')\n",
    "plt.title('Training and Validation Losses')\n",
    "plt.xlabel('Epoches')\n",
    "plt.ylabel('Loss')\n",
    "plt.legend()\n",
    "plt.show()"
   ]
  },
  {
   "cell_type": "code",
   "execution_count": 303,
   "metadata": {},
   "outputs": [
    {
     "name": "stdout",
     "output_type": "stream",
     "text": [
      "Config: {'layer_specs': [784, 128, 10], 'activation': 'ReLU', 'learning_rate': 0.0005, 'batch_size': 129, 'epochs': 100, 'early_stop': True, 'early_stop_epoch': 25, 'L2_penalty': 0.0001, 'momentum': True, 'momentum_gamma': 0.9}\n",
      "Test Loss 0.06158546657000908\n",
      "Test Accuracy 0.8642\n"
     ]
    }
   ],
   "source": [
    "test_loss, test_acc = test(best_model, x_test, y_test)\n",
    "print(\"Config: %r\" % config)\n",
    "print(\"Test Loss\", test_loss)\n",
    "print(\"Test Accuracy\", test_acc)"
   ]
  },
  {
   "cell_type": "markdown",
   "metadata": {},
   "source": [
    "# Hidden units -- double"
   ]
  },
  {
   "cell_type": "code",
   "execution_count": 319,
   "metadata": {},
   "outputs": [],
   "source": [
    "# Customize the parameters for quik check.\n",
    "config[\"layer_specs\"]=[784, 256, 10]\n",
    "config[\"batch_size\"]=129\n",
    "config[\"early_stop\"]=True\n",
    "config[\"early_stop_epoch\"]=25\n",
    "config[\"activation\"]=\"tanh\"\n",
    "config[\"learning_rate\"]=0.0005\n",
    "config[\"epochs\"]=100\n",
    "config[\"L2_penalty\"]=0.0001\n",
    "config[\"momentum\"]=True\n",
    "config[\"momentum_gamma\"]=0.9"
   ]
  },
  {
   "cell_type": "code",
   "execution_count": 320,
   "metadata": {},
   "outputs": [],
   "source": [
    "train_acc, valid_acc, train_loss, valid_loss, best_model=train(tra_data, tra_labels, val_data, val_labels, config)"
   ]
  },
  {
   "cell_type": "code",
   "execution_count": 321,
   "metadata": {},
   "outputs": [
    {
     "data": {
      "image/png": "[encoded data removed]",
      "text/plain": [
       "<Figure size 432x288 with 1 Axes>"
      ]
     },
     "metadata": {
      "needs_background": "light"
     },
     "output_type": "display_data"
    }
   ],
   "source": [
    "plt.plot(train_acc, label='Training')\n",
    "plt.plot(valid_acc, label='Validation')\n",
    "plt.title('Training and Validation Accuracies')\n",
    "plt.xlabel('Epochs')\n",
    "plt.ylabel('Accuracy')\n",
    "plt.legend()\n",
    "plt.show()"
   ]
  },
  {
   "cell_type": "code",
   "execution_count": 322,
   "metadata": {},
   "outputs": [
    {
     "data": {
      "image/png": "[encoded data removed]",
      "text/plain": [
       "<Figure size 432x288 with 1 Axes>"
      ]
     },
     "metadata": {
      "needs_background": "light"
     },
     "output_type": "display_data"
    }
   ],
   "source": [
    "plt.plot(train_loss, label='Training')\n",
    "plt.plot(valid_loss, label='Validation')\n",
    "plt.title('Training and Validation Losses')\n",
    "plt.xlabel('Epoches')\n",
    "plt.ylabel('Loss')\n",
    "plt.legend()\n",
    "plt.show()"
   ]
  },
  {
   "cell_type": "code",
   "execution_count": 323,
   "metadata": {},
   "outputs": [
    {
     "name": "stdout",
     "output_type": "stream",
     "text": [
      "Config: {'layer_specs': [784, 256, 10], 'activation': 'tanh', 'learning_rate': 0.0005, 'batch_size': 129, 'epochs': 100, 'early_stop': True, 'early_stop_epoch': 25, 'L2_penalty': 0.0001, 'momentum': True, 'momentum_gamma': 0.9}\n",
      "Test Loss 0.05570371470763286\n",
      "Test Accuracy 0.8589\n"
     ]
    }
   ],
   "source": [
    "test_loss, test_acc = test(best_model, x_test, y_test)\n",
    "print(\"Config: %r\" % config)\n",
    "print(\"Test Loss\", test_loss)\n",
    "print(\"Test Accuracy\", test_acc)"
   ]
  },
  {
   "cell_type": "markdown",
   "metadata": {},
   "source": [
    "# Hidden units -- halve"
   ]
  },
  {
   "cell_type": "code",
   "execution_count": 324,
   "metadata": {},
   "outputs": [],
   "source": [
    "# Customize the parameters for quik check.\n",
    "config[\"layer_specs\"]=[784, 64, 10]\n",
    "config[\"batch_size\"]=129\n",
    "config[\"early_stop\"]=True\n",
    "config[\"early_stop_epoch\"]=25\n",
    "config[\"activation\"]=\"tanh\"\n",
    "config[\"learning_rate\"]=0.0005\n",
    "config[\"epochs\"]=100\n",
    "config[\"L2_penalty\"]=0.0001\n",
    "config[\"momentum\"]=True\n",
    "config[\"momentum_gamma\"]=0.9"
   ]
  },
  {
   "cell_type": "code",
   "execution_count": 325,
   "metadata": {},
   "outputs": [],
   "source": [
    "train_acc, valid_acc, train_loss, valid_loss, best_model=train(tra_data, tra_labels, val_data, val_labels, config)"
   ]
  },
  {
   "cell_type": "code",
   "execution_count": 326,
   "metadata": {},
   "outputs": [
    {
     "data": {
      "image/png": "[encoded data removed]",
      "text/plain": [
       "<Figure size 432x288 with 1 Axes>"
      ]
     },
     "metadata": {
      "needs_background": "light"
     },
     "output_type": "display_data"
    }
   ],
   "source": [
    "plt.plot(train_acc, label='Training')\n",
    "plt.plot(valid_acc, label='Validation')\n",
    "plt.title('Training and Validation Accuracies')\n",
    "plt.xlabel('Epochs')\n",
    "plt.ylabel('Accuracy')\n",
    "plt.legend()\n",
    "plt.show()"
   ]
  },
  {
   "cell_type": "code",
   "execution_count": 327,
   "metadata": {},
   "outputs": [
    {
     "data": {
      "image/png": "[encoded data removed]",
      "text/plain": [
       "<Figure size 432x288 with 1 Axes>"
      ]
     },
     "metadata": {
      "needs_background": "light"
     },
     "output_type": "display_data"
    }
   ],
   "source": [
    "plt.plot(train_loss, label='Training')\n",
    "plt.plot(valid_loss, label='Validation')\n",
    "plt.title('Training and Validation Losses')\n",
    "plt.xlabel('Epoches')\n",
    "plt.ylabel('Loss')\n",
    "plt.legend()\n",
    "plt.show()"
   ]
  },
  {
   "cell_type": "code",
   "execution_count": 328,
   "metadata": {},
   "outputs": [
    {
     "name": "stdout",
     "output_type": "stream",
     "text": [
      "Config: {'layer_specs': [784, 64, 10], 'activation': 'tanh', 'learning_rate': 0.0005, 'batch_size': 129, 'epochs': 100, 'early_stop': True, 'early_stop_epoch': 25, 'L2_penalty': 0.0001, 'momentum': True, 'momentum_gamma': 0.9}\n",
      "Test Loss 0.06934423217301232\n",
      "Test Accuracy 0.8274\n"
     ]
    }
   ],
   "source": [
    "test_loss, test_acc = test(best_model, x_test, y_test)\n",
    "print(\"Config: %r\" % config)\n",
    "print(\"Test Loss\", test_loss)\n",
    "print(\"Test Accuracy\", test_acc)"
   ]
  },
  {
   "cell_type": "markdown",
   "metadata": {},
   "source": [
    "# double layers"
   ]
  },
  {
   "cell_type": "code",
   "execution_count": 329,
   "metadata": {},
   "outputs": [],
   "source": [
    "# Customize the parameters for quik check.\n",
    "config[\"layer_specs\"]=[784, 64, 64, 10]\n",
    "config[\"batch_size\"]=129\n",
    "config[\"early_stop\"]=True\n",
    "config[\"early_stop_epoch\"]=25\n",
    "config[\"activation\"]=\"tanh\"\n",
    "config[\"learning_rate\"]=0.0005\n",
    "config[\"epochs\"]=100\n",
    "config[\"L2_penalty\"]=0.0001\n",
    "config[\"momentum\"]=True\n",
    "config[\"momentum_gamma\"]=0.9"
   ]
  },
  {
   "cell_type": "code",
   "execution_count": 330,
   "metadata": {},
   "outputs": [],
   "source": [
    "train_acc, valid_acc, train_loss, valid_loss, best_model=train(tra_data, tra_labels, val_data, val_labels, config)"
   ]
  },
  {
   "cell_type": "code",
   "execution_count": 331,
   "metadata": {},
   "outputs": [
    {
     "data": {
      "image/png": "[encoded data removed]",
      "text/plain": [
       "<Figure size 432x288 with 1 Axes>"
      ]
     },
     "metadata": {
      "needs_background": "light"
     },
     "output_type": "display_data"
    }
   ],
   "source": [
    "plt.plot(train_acc, label='Training')\n",
    "plt.plot(valid_acc, label='Validation')\n",
    "plt.title('Training and Validation Accuracies')\n",
    "plt.xlabel('Epochs')\n",
    "plt.ylabel('Accuracy')\n",
    "plt.legend()\n",
    "plt.show()"
   ]
  },
  {
   "cell_type": "code",
   "execution_count": 332,
   "metadata": {},
   "outputs": [
    {
     "data": {
      "image/png": "[encoded data removed]",
      "text/plain": [
       "<Figure size 432x288 with 1 Axes>"
      ]
     },
     "metadata": {
      "needs_background": "light"
     },
     "output_type": "display_data"
    }
   ],
   "source": [
    "plt.plot(train_loss, label='Training')\n",
    "plt.plot(valid_loss, label='Validation')\n",
    "plt.title('Training and Validation Losses')\n",
    "plt.xlabel('Epoches')\n",
    "plt.ylabel('Loss')\n",
    "plt.legend()\n",
    "plt.show()"
   ]
  },
  {
   "cell_type": "code",
   "execution_count": 333,
   "metadata": {},
   "outputs": [
    {
     "name": "stdout",
     "output_type": "stream",
     "text": [
      "Config: {'layer_specs': [784, 64, 64, 10], 'activation': 'tanh', 'learning_rate': 0.0005, 'batch_size': 129, 'epochs': 100, 'early_stop': True, 'early_stop_epoch': 25, 'L2_penalty': 0.0001, 'momentum': True, 'momentum_gamma': 0.9}\n",
      "Test Loss 0.06985142879668356\n",
      "Test Accuracy 0.8307\n"
     ]
    }
   ],
   "source": [
    "test_loss, test_acc = test(best_model, x_test, y_test)\n",
    "print(\"Config: %r\" % config)\n",
    "print(\"Test Loss\", test_loss)\n",
    "print(\"Test Accuracy\", test_acc)"
   ]
  },
  {
   "cell_type": "markdown",
   "metadata": {},
   "source": [
    "# regularization plot"
   ]
  },
  {
   "cell_type": "code",
   "execution_count": null,
   "metadata": {},
   "outputs": [],
   "source": []
  },
  {
   "cell_type": "code",
   "execution_count": null,
   "metadata": {},
   "outputs": [],
   "source": []
  },
  {
   "cell_type": "code",
   "execution_count": null,
   "metadata": {},
   "outputs": [],
   "source": []
  },
  {
   "cell_type": "markdown",
   "metadata": {},
   "source": [
    "# Experiment Functions"
   ]
  },
  {
   "cell_type": "code",
   "execution_count": null,
   "metadata": {},
   "outputs": [],
   "source": [
    "def activation_experiment(x_train, y_train, x_val, y_val, x_test, y_test, config):\n",
    "    \"\"\"\n",
    "    This function tests all the different activation functions available and then plots their performances.\n",
    "    \"\"\"\n",
    "    #use sigmoid as the activation function\n",
    "    config['activation'] = \"sigmoid\"\n",
    "    train_acc, valid_acc, train_loss, valid_loss, best_model = train(x_train,y_train,x_val,y_val,config,experiment=None)\n",
    "    test_loss, test_acc = test(best_model, x_test, y_test)\n",
    "    print(\"Config: %r\" % config)\n",
    "    print(f\"Test Loss {config['activation']}: {test_loss}\")\n",
    "    print(f\"Test Accuracy {config['activation']}: {test_acc}\")\n",
    "\n",
    "    #use relu as the activation function\n",
    "    config['activation'] = \"ReLU\"\n",
    "    train_acc, valid_acc, train_loss, valid_loss, best_model = train(x_train,y_train,x_val,y_val,config,experiment=None)\n",
    "    test_loss, test_acc = test(best_model, x_test, y_test)\n",
    "    print(\"Config: %r\" % config)\n",
    "    print(f\"Test Loss {config['activation']}: {test_loss}\")\n",
    "    print(f\"Test Accuracy {config['activation']}: {test_acc}\")\n",
    "\n",
    "def topology_experiment(x_train, y_train, x_val, y_val, x_test, y_test, config):\n",
    "    \"\"\"\n",
    "    This function tests performance of various network topologies, i.e. making\n",
    "    the graph narrower and wider by halving and doubling the number of hidden units.\n",
    "\n",
    "    Then, we change number of hidden layers to 2 of equal size instead of 1, and keep\n",
    "    number of parameters roughly equal to the number of parameters of the best performing\n",
    "    model previously.\n",
    "    \"\"\"\n",
    "    # double the hidden units\n",
    "    config['layer_specs'] = [784, 256, 10]\n",
    "    train_acc, valid_acc, train_loss, valid_loss, best_model = train(x_train,y_train,x_val,y_val,config,experiment=None)\n",
    "    test_loss, test_acc = test(best_model, x_test, y_test)\n",
    "    print(\"Config: %r\" % config)\n",
    "    print(f\"Test Loss {config['activation']}: {test_loss}\")\n",
    "    print(f\"Test Accuracy {config['activation']}: {test_acc}\")\n",
    "\n",
    "    # halve the hidden units\n",
    "    config['layer_specs'] = [784, 64, 10]\n",
    "    train_acc, valid_acc, train_loss, valid_loss, best_model = train(x_train,y_train,x_val,y_val,config,experiment=None)\n",
    "    test_loss, test_acc = test(best_model, x_test, y_test)\n",
    "    print(\"Config: %r\" % config)\n",
    "    print(f\"Test Loss {config['activation']}: {test_loss}\")\n",
    "    print(f\"Test Accuracy {config['activation']}: {test_acc}\")\n",
    "\n",
    "\n",
    "def regularization_experiment(x_train, y_train, x_val, y_val, x_test, y_test, config):\n",
    "    \"\"\"\n",
    "    This function tests the neural network with regularization.\n",
    "    \"\"\"\n",
    "    train_acc, valid_acc, train_loss, valid_loss, best_model = train(x_train,y_train,x_val,y_val,config,experiment=\"regularization\")\n",
    "    test_loss, test_acc = test(best_model, x_test, y_test)\n",
    "    print(\"Config: %r\" % config)\n",
    "    print(\"Test Loss\", test_loss)\n",
    "    print(\"Test Accuracy\", test_acc)"
   ]
  },
  {
   "cell_type": "code",
   "execution_count": null,
   "metadata": {},
   "outputs": [],
   "source": []
  },
  {
   "cell_type": "code",
   "execution_count": null,
   "metadata": {},
   "outputs": [],
   "source": [
    "for i, layer in enumerate(model.layers):\n",
    "                if i%2==0:\n",
    "                    if momentum:\n",
    "                        if i == 0:\n",
    "                            layer.d_w = new_delta(gamma,last_dw[0],layer.d_w)\n",
    "                            layer.d_b = new_delta(gamma,last_db[0],layer.d_b)\n",
    "                            last_dw[0],last_db[0] = layer.d_w, layer.d_b\n",
    "                        else:\n",
    "                            layer.d_w = new_delta(gamma,last_dw[1],layer.d_w)\n",
    "                            layer.d_b = new_delta(gamma,last_db[1],layer.d_b)\n",
    "                            last_dw[1],last_db[1] = layer.d_w, layer.d_b\n",
    "                        if experiment==\"regularization\":\n",
    "                            layer.w += learning_rate*layer.d_w/batch_size - L2_pen*layer.w\n",
    "                        else:\n",
    "                            layer.w += learning_rate*layer.d_w/batch_size\n",
    "                        layer.b += learning_rate*layer.d_b/batch_size\n",
    "                    else:\n",
    "                        if experiment==\"regularization\":\n",
    "                            layer.w += learning_rate*layer.d_w/batch_size - L2_pen*layer.w\n",
    "                        else:\n",
    "                            layer.w += learning_rate*layer.d_w/batch_size\n",
    "                        layer.b += learning_rate*layer.d_b/batch_size"
   ]
  },
  {
   "cell_type": "code",
   "execution_count": null,
   "metadata": {},
   "outputs": [],
   "source": []
  },
  {
   "cell_type": "code",
   "execution_count": null,
   "metadata": {},
   "outputs": [],
   "source": []
  },
  {
   "cell_type": "code",
   "execution_count": null,
   "metadata": {},
   "outputs": [],
   "source": []
  },
  {
   "cell_type": "code",
   "execution_count": null,
   "metadata": {},
   "outputs": [],
   "source": []
  },
  {
   "cell_type": "code",
   "execution_count": null,
   "metadata": {},
   "outputs": [],
   "source": []
  },
  {
   "cell_type": "code",
   "execution_count": null,
   "metadata": {},
   "outputs": [],
   "source": []
  },
  {
   "cell_type": "code",
   "execution_count": null,
   "metadata": {},
   "outputs": [],
   "source": []
  },
  {
   "cell_type": "markdown",
   "metadata": {},
   "source": [
    "# Check Gradient"
   ]
  },
  {
   "cell_type": "code",
   "execution_count": 173,
   "metadata": {},
   "outputs": [],
   "source": [
    "def check_gradients(x_train, y_train, config):\n",
    "    \"\"\"\n",
    "    Check the network gradients computed by back propagation by comparing with the gradients computed using numerical\n",
    "    approximation.\n",
    "    \"\"\"\n",
    "    model = NeuralNetwork(config=config)\n",
    "    #for one pattern\n",
    "    x, y = x_train[5:6], y_train[5:6]\n",
    "    error = 10e-2\n",
    "    # input to hidden units is 0, hidden units to output is 2\n",
    "    cur_layer = model.layers[0]\n",
    "    \n",
    "    # Initialize weight value to use\n",
    "    weight = cur_layer.w[12,11]\n",
    "    #weight = cur_layer.b[2]\n",
    "\n",
    "    # add error\n",
    "    cur_layer.w[12, 11] = weight + error\n",
    "    #cur_layer.b[2] = weight + error\n",
    "    predicted_y, loss_plus = model(x, y)\n",
    "\n",
    "    # subtract error\n",
    "    cur_layer.w[12,11] = weight - error\n",
    "    #cur_layer.b[2] = weight - error\n",
    "    predicted_y, loss_minus = model(x, y)\n",
    "    \n",
    "    # compute the approximated gradient and the actual\n",
    "    approximated = (np.abs((loss_plus - loss_minus) / (2 * error)))\n",
    "    model.backward()\n",
    "    actual = np.abs(cur_layer.d_w[12,11])/10\n",
    "    #actual = np.abs(cur_layer.d_b[2])/10\n",
    "    \n",
    "    #print out\n",
    "    print(\"Approximated gradient: \",str(approximated))\n",
    "    print(\"Actual gradient: \",str(actual))\n",
    "    print(\"Difference: \",str(np.abs(actual - approximated)))"
   ]
  },
  {
   "cell_type": "code",
   "execution_count": 174,
   "metadata": {},
   "outputs": [],
   "source": [
    "def train_check_gradient(x_train_in, y_train_in, x_val, y_val, config, experiment=None):\n",
    "    model = NeuralNetwork(config=config)  \n",
    "    y_train_in=one_hot_encoding(y_train_in)\n",
    "    train_dataset=(x_train_in,y_train_in)\n",
    "    #check gradients\n",
    "    check_gradients(x_train_in,y_train_in, config)"
   ]
  },
  {
   "cell_type": "code",
   "execution_count": 175,
   "metadata": {},
   "outputs": [
    {
     "name": "stdout",
     "output_type": "stream",
     "text": [
      "Approximated gradient:  0.0007960504499035514\n",
      "Actual gradient:  0.0007925962829981818\n",
      "Difference:  3.4541669053696905e-06\n"
     ]
    }
   ],
   "source": [
    "#check gradient\n",
    "train_check_gradient(tra_data, tra_labels, val_data, val_labels, config)"
   ]
  },
  {
   "cell_type": "code",
   "execution_count": null,
   "metadata": {},
   "outputs": [],
   "source": []
  },
  {
   "cell_type": "code",
   "execution_count": null,
   "metadata": {},
   "outputs": [],
   "source": []
  },
  {
   "cell_type": "markdown",
   "metadata": {},
   "source": [
    "# Activation"
   ]
  },
  {
   "cell_type": "code",
   "execution_count": null,
   "metadata": {},
   "outputs": [],
   "source": [
    "def activation_experiment(x_train, y_train, x_val, y_val, x_test, y_test, config):\n",
    "    \"\"\"\n",
    "    This function tests all the different activation functions available and then plots their performances.\n",
    "    \"\"\"\n",
    "    #use sigmoid as the activation function\n",
    "    config['activation'] = \"sigmoid\"\n",
    "    train_acc, valid_acc, train_loss, valid_loss, best_model = train(x_train,y_train,x_val,y_val,config,experiment=None)\n",
    "    test_loss, test_acc = test(best_model, x_test, y_test)\n",
    "    return train_acc, valid_acc, train_loss, valid_loss,test_loss, test_acc\n",
    "\n",
    "    # #use relu as the activation function\n",
    "    # config['activation'] = \"ReLU\"\n",
    "    # train_acc, valid_acc, train_loss, valid_loss, best_model = train(x_train,y_train,x_val,y_val,config,experiment=None)\n",
    "    # test_loss, test_acc = test(best_model, x_test, y_test)\n",
    "    # return train_acc, valid_acc, train_loss, valid_loss,test_loss, test_acc\n",
    "\n",
    "\n",
    "def topology_experiment(x_train, y_train, x_val, y_val, x_test, y_test, config):\n",
    "    \"\"\"\n",
    "    This function tests performance of various network topologies, i.e. making\n",
    "    the graph narrower and wider by halving and doubling the number of hidden units.\n",
    "\n",
    "    Then, we change number of hidden layers to 2 of equal size instead of 1, and keep\n",
    "    number of parameters roughly equal to the number of parameters of the best performing\n",
    "    model previously.\n",
    "    \"\"\"\n",
    "    # double the hidden units\n",
    "    config['layer_specs'] = [784, 256, 10]\n",
    "    train_acc, valid_acc, train_loss, valid_loss, best_model = train(x_train,y_train,x_val,y_val,config,experiment=None)\n",
    "    test_loss, test_acc = test(best_model, x_test, y_test)\n",
    "    return train_acc, valid_acc, train_loss, valid_loss,test_loss, test_acc\n",
    "\n",
    "    # halve the hidden units\n",
    "    # config['layer_specs'] = [784, 64, 10]\n",
    "    # train_acc, valid_acc, train_loss, valid_loss, best_model = train(x_train,y_train,x_val,y_val,config,experiment=None)\n",
    "    # test_loss, test_acc = test(best_model, x_test, y_test)\n",
    "    # return train_acc, valid_acc, train_loss, valid_loss,test_loss, test_acc\n",
    "\n",
    "\n",
    "def regularization_experiment(x_train, y_train, x_val, y_val, x_test, y_test, config):\n",
    "    \"\"\"\n",
    "    This function tests the neural network with regularization.\n",
    "    \"\"\"\n",
    "    train_acc, valid_acc, train_loss, valid_loss, best_model = train(x_train,y_train,x_val,y_val,config,experiment=\"regularization\")\n",
    "    test_loss, test_acc = test(best_model, x_test, y_test)\n",
    "    return train_acc, valid_acc, train_loss, valid_loss,test_loss, test_acc\n",
    "\n",
    "\n",
    "\n",
    "def check_gradients(x_train, y_train, config):\n",
    "    \"\"\"\n",
    "    Check the network gradients computed by back propagation by comparing with the gradients computed using numerical\n",
    "    approximation.\n",
    "    \"\"\"\n",
    "    model = NeuralNetwork(config=config)\n",
    "    #for one pattern\n",
    "    x, y = x_train[5:6], y_train[5:6]\n",
    "    error = 10e-2\n",
    "    # input to hidden units is 0, hidden units to output is 2\n",
    "    cur_layer = model.layers[0]\n",
    "    \n",
    "    # Initialize weight value to use\n",
    "    weight = cur_layer.w[0,1]\n",
    "    # weight = cur_layer.b[2]\n",
    "\n",
    "    # add error\n",
    "    cur_layer.w[0, 1] = weight + error\n",
    "    # cur_layer.b[2] = weight + error\n",
    "    predicted_y, loss_plus = model(x, y)\n",
    "\n",
    "    # subtract error\n",
    "    cur_layer.w[0,1] = weight - error\n",
    "    # cur_layer.b[2] = weight - error\n",
    "    predicted_y, loss_minus = model(x, y)\n",
    "    \n",
    "    # compute the approximated gradient and the actual\n",
    "    approximated = (np.abs((loss_plus - loss_minus) / (2 * error)))\n",
    "    model.backward()\n",
    "    actual = np.abs(cur_layer.d_w[0,1])\n",
    "    # actual = np.abs(cur_layer.d_b[2])/10\n",
    "    \n",
    "    #print out\n",
    "    print(\"Approximated gradient: \",str(approximated), \" Actual gradient: \", str(actual), \" Difference: \",str(np.abs(actual - approximated)))"
   ]
  },
  {
   "cell_type": "code",
   "execution_count": null,
   "metadata": {},
   "outputs": [],
   "source": [
    "def activation_experiment(x_train, y_train, x_val, y_val, x_test, y_test, config):\n",
    "    \"\"\"\n",
    "    This function tests all the different activation functions available and then plots their performances.\n",
    "    \"\"\"\n",
    "    # A list that records all possible outputs\n",
    "    output=[]\n",
    "    \n",
    "    config[\"early_stop\"]=True\n",
    "    config[\"early_stop_epoch\"]=5\n",
    "    \n",
    "    \n",
    "    # tanh:\n",
    "    config[\"activation\"]=\"tanh\"\n",
    "    train_acc, valid_acc, train_loss, valid_loss, model=train(tra_data, tra_labels, val_data, val_labels, config)\n",
    "    output.append([train_acc, valid_acc, train_loss, valid_loss, model])\n",
    "    \n",
    "    \n",
    "    \n",
    "    # sigmoid:\n",
    "    config[\"activation\"]=\"sigmoid\"\n",
    "    train_acc, valid_acc, train_loss, valid_loss, model=train(tra_data, tra_labels, val_data, val_labels, config)\n",
    "    output.append([train_acc, valid_acc, train_loss, valid_loss, model])\n",
    "    \n",
    "    \n",
    "    \n",
    "    # relu:\n",
    "    config[\"activation\"]=\"ReLU\"\n",
    "    train_acc, valid_acc, train_loss, valid_loss, model=train(tra_data, tra_labels, val_data, val_labels, config)\n",
    "    output.append([train_acc, valid_acc, train_loss, valid_loss, model])\n",
    "    \n",
    "    \n",
    "    # Visualization \n",
    "    output=np.array(output)\n",
    "    \n",
    "    ## Training losses:\n",
    "    training_losses=output[:,2]\n",
    "    plt.plot(training_losses[0],label=\"tanh\")\n",
    "    plt.plot(training_losses[1],label=\"sigmoid\")\n",
    "    plt.plot(training_losses[2],label=\"ReLu\")\n",
    "    plt.title(\"training losses\")\n",
    "    plt.show()\n",
    "    \n",
    "    ## Training accuracy:\n",
    "    training_acc=output[:,0]\n",
    "    plt.plot(training_acc[0],label=\"tanh\")\n",
    "    plt.plot(training_acc[1],label=\"sigmoid\")\n",
    "    plt.plot(training_acc[2],label=\"ReLu\")\n",
    "    plt.title(\"training accuracy\")\n",
    "    plt.show()\n",
    "    \n",
    "    \n",
    "    ## Validation Accuracy: \n",
    "    val_acc=output[:,1]\n",
    "    plt.plot(val_acc[0],label=\"tanh\")\n",
    "    plt.plot(val_acc[1],label=\"sigmoid\")\n",
    "    plt.plot(val_acc[2],label=\"ReLu\")\n",
    "    plt.title(\"validation accuracy\")\n",
    "    plt.show()\n",
    "    \n",
    "    ## Validation Losses:\n",
    "    val_losses=output[:,3]\n",
    "    plt.plot(val_losses[0],label=\"tanh\")\n",
    "    plt.plot(val_losses[1],label=\"sigmoid\")\n",
    "    plt.plot(val_losses[2],label=\"ReLu\")\n",
    "    plt.title(\"validation losses\")\n",
    "    plt.show()\n",
    "    \n",
    "    ## Test outcome\n",
    "    models=output[:,4]\n",
    "    test1=test(models[0], x_test, y_test)\n",
    "    test2=test(models[1], x_test, y_test)\n",
    "    test3=test(models[2], x_test, y_test)\n",
    "    return (test1,test2,test3)\n",
    "        \n",
    "\n",
    "\n",
    "def topology_experiment(x_train, y_train, x_val, y_val, x_test, y_test, config):\n",
    "    \"\"\"\n",
    "    This function tests performance of various network topologies, i.e. making\n",
    "    the graph narrower and wider by halving and doubling the number of hidden units.\n",
    "\n",
    "    Then, we change number of hidden layers to 2 of equal size instead of 1, and keep\n",
    "    number of parameters roughly equal to the number of parameters of the best performing\n",
    "    model previously.\n",
    "    \"\"\"\n",
    "    raise NotImplementedError('Topology Experiment not implemented')\n",
    "\n",
    "\n",
    "def regularization_experiment(x_train, y_train, x_val, y_val, x_test, y_test, config):\n",
    "    \"\"\"\n",
    "    This function tests the neural network with regularization.\n",
    "    \"\"\"\n",
    "    raise NotImplementedError('Regularization Experiment not implemented')\n"
   ]
  }
 ],
 "metadata": {
  "kernelspec": {
   "display_name": "Python 3",
   "language": "python",
   "name": "python3"
  },
  "language_info": {
   "codemirror_mode": {
    "name": "ipython",
    "version": 3
   },
   "file_extension": ".py",
   "mimetype": "text/x-python",
   "name": "python",
   "nbconvert_exporter": "python",
   "pygments_lexer": "ipython3",
   "version": "3.7.6"
  }
 },
 "nbformat": 4,
 "nbformat_minor": 4
}
